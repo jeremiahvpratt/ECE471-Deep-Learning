{
 "cells": [
  {
   "cell_type": "code",
   "execution_count": 2,
   "metadata": {},
   "outputs": [
    {
     "name": "stderr",
     "output_type": "stream",
     "text": [
      "C:\\Users\\jeremiah.v.pratt\\Anaconda3\\lib\\site-packages\\h5py\\__init__.py:34: FutureWarning: Conversion of the second argument of issubdtype from `float` to `np.floating` is deprecated. In future, it will be treated as `np.float64 == np.dtype(float).type`.\n",
      "  from ._conv import register_converters as _register_converters\n",
      "Using TensorFlow backend.\n"
     ]
    }
   ],
   "source": [
    "import keras\n",
    "from keras.datasets import mnist\n",
    "from keras.models import Sequential\n",
    "from keras.layers import Dense, Dropout, Flatten\n",
    "from keras.layers import Conv2D, MaxPooling2D\n",
    "from keras import backend as K\n",
    "from keras import regularizers\n",
    "\n",
    "from sklearn.model_selection import train_test_split\n",
    "import numpy as np"
   ]
  },
  {
   "cell_type": "code",
   "execution_count": 38,
   "metadata": {},
   "outputs": [
    {
     "name": "stdout",
     "output_type": "stream",
     "text": [
      "x_train shape: (54600, 28, 28, 1)\n",
      "54600 train samples\n",
      "5400 val samples\n",
      "10000 test samples\n",
      "Train on 54600 samples, validate on 5400 samples\n",
      "Epoch 1/4\n",
      "54600/54600 [==============================] - 23s 418us/step - loss: -0.7163 - acc: 0.4424 - val_loss: -0.7459 - val_acc: 0.4374\n",
      "Epoch 2/4\n",
      "54600/54600 [==============================] - 20s 370us/step - loss: -0.7411 - acc: 0.4577 - val_loss: -0.7528 - val_acc: 0.4504\n",
      "Epoch 3/4\n",
      "54600/54600 [==============================] - 21s 378us/step - loss: -0.7467 - acc: 0.4587 - val_loss: -0.7536 - val_acc: 0.4933\n",
      "Epoch 4/4\n",
      "54600/54600 [==============================] - 20s 371us/step - loss: -0.7466 - acc: 0.4602 - val_loss: -0.7464 - val_acc: 0.4159\n",
      "Test loss: -0.7423469367980957\n",
      "Test accuracy: 0.4079\n"
     ]
    }
   ],
   "source": [
    "batch_size = 128\n",
    "num_classes = 10\n",
    "epochs = 4\n",
    "\n",
    "# input image dimensions\n",
    "img_rows, img_cols = 28, 28\n",
    "\n",
    "# the data, split between train and test sets\n",
    "(x_train, y_train), (x_test, y_test) = mnist.load_data()\n",
    "x_train, x_val, y_train, y_val = train_test_split(\n",
    "            x_train, y_train, test_size=.09, random_state=123)\n",
    "\n",
    "if K.image_data_format() == 'channels_first':\n",
    "    x_train = x_train.reshape(x_train.shape[0], 1, img_rows, img_cols)\n",
    "    x_val = x_val.reshape(x_val.shape[0], 1, img_rows, img_cols)\n",
    "    x_test = x_test.reshape(x_test.shape[0], 1, img_rows, img_cols)\n",
    "    input_shape = (1, img_rows, img_cols)\n",
    "else:\n",
    "    x_train = x_train.reshape(x_train.shape[0], img_rows, img_cols, 1)\n",
    "    x_val = x_val.reshape(x_val.shape[0], img_rows, img_cols, 1)\n",
    "    x_test = x_test.reshape(x_test.shape[0], img_rows, img_cols, 1)\n",
    "    input_shape = (img_rows, img_cols, 1)\n",
    "\n",
    "x_train = x_train.astype('float32')\n",
    "x_val = x_val.astype('float32')\n",
    "x_test = x_test.astype('float32')\n",
    "x_train /= 255\n",
    "x_val /= 255\n",
    "x_test /= 255\n",
    "print('x_train shape:', x_train.shape)\n",
    "print(x_train.shape[0], 'train samples')\n",
    "print(x_val.shape[0], 'val samples')\n",
    "print(x_test.shape[0], 'test samples')\n",
    "\n",
    "y_test_new = np.zeros((y_test.shape[0],4))\n",
    "y_val_new = np.zeros((y_val.shape[0],4))\n",
    "y_train_new = np.zeros((y_train.shape[0],4))\n",
    "y_test_new[y_test==0] = [0,0,0,0]\n",
    "y_test_new[y_test==1] = [0,0,0,1]\n",
    "y_test_new[y_test==2] = [0,0,1,0]\n",
    "y_test_new[y_test==3] = [0,0,1,1]\n",
    "y_test_new[y_test==4] = [0,1,0,0]\n",
    "y_test_new[y_test==5] = [0,1,0,1]\n",
    "y_test_new[y_test==6] = [0,1,1,0]\n",
    "y_test_new[y_test==7] = [0,1,1,1]\n",
    "y_test_new[y_test==8] = [1,0,0,0]\n",
    "y_test_new[y_test==9] = [1,0,0,1]\n",
    "y_val_new[y_val==0] = [0,0,0,0]\n",
    "y_val_new[y_val==1] = [0,0,0,1]\n",
    "y_val_new[y_val==2] = [0,0,1,0]\n",
    "y_val_new[y_val==3] = [0,0,1,1]\n",
    "y_val_new[y_val==4] = [0,1,0,0]\n",
    "y_val_new[y_val==5] = [0,1,0,1]\n",
    "y_val_new[y_val==6] = [0,1,1,0]\n",
    "y_val_new[y_val==7] = [0,1,1,1]\n",
    "y_val_new[y_val==8] = [1,0,0,0]\n",
    "y_val_new[y_val==9] = [1,0,0,1]\n",
    "y_train_new[y_train==0] = [0,0,0,0]\n",
    "y_train_new[y_train==1] = [0,0,0,1]\n",
    "y_train_new[y_train==2] = [0,0,1,0]\n",
    "y_train_new[y_train==3] = [0,0,1,1]\n",
    "y_train_new[y_train==4] = [0,1,0,0]\n",
    "y_train_new[y_train==5] = [0,1,0,1]\n",
    "y_train_new[y_train==6] = [0,1,1,0]\n",
    "y_train_new[y_train==7] = [0,1,1,1]\n",
    "y_train_new[y_train==8] = [1,0,0,0]\n",
    "y_train_new[y_train==9] = [1,0,0,1]\n",
    "y_test = y_test_new\n",
    "y_val = y_val_new\n",
    "y_train = y_train_new\n",
    "\n",
    "\n",
    "model = Sequential()\n",
    "model.add(Conv2D(16, kernel_size=(3,3),\n",
    "                 activation='relu',\n",
    "                 input_shape=input_shape,\n",
    "                 kernel_regularizer=regularizers.l2(.02)))\n",
    "model.add(MaxPooling2D(pool_size=(2,2), strides=2))\n",
    "# model.add(Conv2D(16, kernel_size=(3,3),\n",
    "#                  activation='relu',\n",
    "#                  kernel_regularizer=regularizers.l2(.01)))\n",
    "# model.add(MaxPooling2D(pool_size=(2,2), strides=2))\n",
    "model.add(Flatten())\n",
    "model.add(Dense(4, activation='relu'))\n",
    "\n",
    "optimizer = keras.optimizers.Adam()\n",
    "model.compile(loss=keras.losses.cosine_proximity,\n",
    "              optimizer=optimizer,\n",
    "              metrics=['accuracy'])\n",
    "\n",
    "model.fit(x_train, y_train,\n",
    "          batch_size=batch_size,\n",
    "          epochs=epochs,\n",
    "          verbose=1,\n",
    "          validation_data=(x_val, y_val))\n",
    "score = model.evaluate(x_test, y_test, verbose=0)\n",
    "print('Test loss:', score[0])\n",
    "print('Test accuracy:', score[1])"
   ]
  },
  {
   "cell_type": "code",
   "execution_count": 21,
   "metadata": {
    "collapsed": true
   },
   "outputs": [],
   "source": [
    "y_test_new = np.zeros((y_test.shape[0],4))\n",
    "y_val_new = np.zeros((y_val.shape[0],4))\n",
    "y_train_new = np.zeros((y_train.shape[0],4))\n",
    "y_test_new[y_test==0] = [0,0,0,0]\n",
    "y_test_new[y_test==1] = [0,0,0,1]\n",
    "y_test_new[y_test==2] = [0,0,1,0]\n",
    "y_test_new[y_test==3] = [0,0,1,1]\n",
    "y_test_new[y_test==4] = [0,1,0,0]\n",
    "y_test_new[y_test==5] = [0,1,0,1]\n",
    "y_test_new[y_test==6] = [0,1,1,0]\n",
    "y_test_new[y_test==7] = [0,1,1,1]\n",
    "y_test_new[y_test==8] = [1,0,0,0]\n",
    "y_test_new[y_test==9] = [1,0,0,1]"
   ]
  },
  {
   "cell_type": "code",
   "execution_count": null,
   "metadata": {
    "collapsed": true
   },
   "outputs": [],
   "source": []
  }
 ],
 "metadata": {
  "kernelspec": {
   "display_name": "Python 3",
   "language": "python",
   "name": "python3"
  },
  "language_info": {
   "codemirror_mode": {
    "name": "ipython",
    "version": 3
   },
   "file_extension": ".py",
   "mimetype": "text/x-python",
   "name": "python",
   "nbconvert_exporter": "python",
   "pygments_lexer": "ipython3",
   "version": "3.6.2"
  }
 },
 "nbformat": 4,
 "nbformat_minor": 2
}
