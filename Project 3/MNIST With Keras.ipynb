{
 "cells": [
  {
   "cell_type": "markdown",
   "metadata": {},
   "source": [
    "# Neural Nets Project 3\n",
    "## Jeremiah Pratt\n",
    "#### Guide used for learning Keras: https://github.com/keras-team/keras/blob/master/examples/mnist_cnn.py\n",
    "\n",
    "In this project, I implement a shallow neural network, with a single convolutional layer, regularized with l2 penalties and droput, followed by a single dense layer for classification, in order to classify the handwritten digits from the MNIST dataset. Extensive testing was performed to minimize the number of parameters and optimize regularization and # of training epochs."
   ]
  },
  {
   "cell_type": "code",
   "execution_count": 6,
   "metadata": {
    "collapsed": true
   },
   "outputs": [],
   "source": [
    "import keras\n",
    "from keras.datasets import mnist\n",
    "from keras.models import Sequential\n",
    "from keras.layers import Dense, Dropout, Flatten\n",
    "from keras.layers import Conv2D, MaxPooling2D\n",
    "from keras import backend as K\n",
    "from keras import regularizers\n",
    "\n",
    "from sklearn.model_selection import train_test_split\n",
    "import numpy as np"
   ]
  },
  {
   "cell_type": "code",
   "execution_count": 11,
   "metadata": {},
   "outputs": [
    {
     "name": "stdout",
     "output_type": "stream",
     "text": [
      "x_train shape: (54600, 28, 28, 1)\n",
      "54600 train samples\n",
      "5400 val samples\n",
      "10000 test samples\n",
      "Train on 54600 samples, validate on 5400 samples\n",
      "Epoch 1/4\n",
      "54600/54600 [==============================] - 28s 511us/step - loss: 0.7177 - acc: 0.7750 - val_loss: 0.2881 - val_acc: 0.9189\n",
      "Epoch 2/4\n",
      "54600/54600 [==============================] - 27s 500us/step - loss: 0.4143 - acc: 0.8719 - val_loss: 0.1934 - val_acc: 0.9424\n",
      "Epoch 3/4\n",
      "54600/54600 [==============================] - 27s 500us/step - loss: 0.3334 - acc: 0.8982 - val_loss: 0.1543 - val_acc: 0.9543\n",
      "Epoch 4/4\n",
      "54600/54600 [==============================] - 27s 491us/step - loss: 0.2852 - acc: 0.9134 - val_loss: 0.1318 - val_acc: 0.9641\n",
      "Test loss: 0.12798613114953042\n",
      "Test accuracy: 0.9655\n"
     ]
    }
   ],
   "source": [
    "batch_size = 128\n",
    "num_classes = 10\n",
    "epochs = 4\n",
    "\n",
    "# input image dimensions\n",
    "img_rows, img_cols = 28, 28\n",
    "\n",
    "# the data, split between train and test sets\n",
    "(x_train, y_train), (x_test, y_test) = mnist.load_data()\n",
    "x_train, x_val, y_train, y_val = train_test_split(\n",
    "            x_train, y_train, test_size=.09, random_state=123)\n",
    "\n",
    "if K.image_data_format() == 'channels_first':\n",
    "    x_train = x_train.reshape(\n",
    "                x_train.shape[0], 1, img_rows, img_cols)\n",
    "    x_val = x_val.reshape(\n",
    "                x_val.shape[0], 1, img_rows, img_cols)\n",
    "    x_test = x_test.reshape(\n",
    "                x_test.shape[0], 1, img_rows, img_cols)\n",
    "    input_shape = (1, img_rows, img_cols)\n",
    "else:\n",
    "    x_train = x_train.reshape(\n",
    "                x_train.shape[0], img_rows, img_cols, 1)\n",
    "    x_val = x_val.reshape(\n",
    "                x_val.shape[0], img_rows, img_cols, 1)\n",
    "    x_test = x_test.reshape(\n",
    "                x_test.shape[0], img_rows, img_cols, 1)\n",
    "    input_shape = (img_rows, img_cols, 1)\n",
    "\n",
    "x_train = x_train.astype('float32')\n",
    "x_val = x_val.astype('float32')\n",
    "x_test = x_test.astype('float32')\n",
    "x_train /= 255\n",
    "x_val /= 255\n",
    "x_test /= 255\n",
    "print('x_train shape:', x_train.shape)\n",
    "print(x_train.shape[0], 'train samples')\n",
    "print(x_val.shape[0], 'val samples')\n",
    "print(x_test.shape[0], 'test samples')\n",
    "\n",
    "# convert class vectors to binary class matrices\n",
    "y_train = keras.utils.to_categorical(y_train, num_classes)\n",
    "y_val = keras.utils.to_categorical(y_val, num_classes)\n",
    "y_test = keras.utils.to_categorical(y_test, num_classes)\n",
    "\n",
    "model = Sequential()\n",
    "model.add(Conv2D(16, kernel_size=(3,3),\n",
    "                 activation='relu',\n",
    "                 input_shape=input_shape,\n",
    "                 kernel_regularizer=regularizers.l2(.001)))\n",
    "model.add(MaxPooling2D(pool_size=(2,2), strides=2))\n",
    "model.add(Dropout(0.2))\n",
    "model.add(Flatten())\n",
    "model.add(Dense(16, activation='relu'))\n",
    "model.add(Dropout(0.2))\n",
    "model.add(Dense(num_classes, activation='softmax'))\n",
    "\n",
    "optimizer = keras.optimizers.Adam()\n",
    "model.compile(loss=keras.losses.categorical_crossentropy,\n",
    "              optimizer=optimizer,\n",
    "              metrics=['accuracy'])\n",
    "\n",
    "model.fit(x_train, y_train,\n",
    "          batch_size=batch_size,\n",
    "          epochs=epochs,\n",
    "          verbose=1,\n",
    "          validation_data=(x_val, y_val))\n",
    "score = model.evaluate(x_test, y_test, verbose=0)\n",
    "print('Test loss:', score[0])\n",
    "print('Test accuracy:', score[1])"
   ]
  }
 ],
 "metadata": {
  "kernelspec": {
   "display_name": "Python 3",
   "language": "python",
   "name": "python3"
  },
  "language_info": {
   "codemirror_mode": {
    "name": "ipython",
    "version": 3
   },
   "file_extension": ".py",
   "mimetype": "text/x-python",
   "name": "python",
   "nbconvert_exporter": "python",
   "pygments_lexer": "ipython3",
   "version": "3.6.2"
  }
 },
 "nbformat": 4,
 "nbformat_minor": 2
}
