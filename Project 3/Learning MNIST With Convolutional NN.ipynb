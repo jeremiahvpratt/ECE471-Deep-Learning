{
 "cells": [
  {
   "cell_type": "markdown",
   "metadata": {},
   "source": [
    "# Neural Nets Project 3\n",
    "### Jeremiah Pratt\n",
    "#### Guide used for learning high-level Tensorflow: https://www.tensorflow.org/tutorials/estimators/cnn#building_the_cnn_mnist_classifier"
   ]
  },
  {
   "cell_type": "code",
   "execution_count": 23,
   "metadata": {
    "collapsed": true
   },
   "outputs": [],
   "source": [
    "import numpy as np\n",
    "import tensorflow as tf \n",
    "import matplotlib.pyplot as plt\n",
    "from tqdm import tqdm\n",
    "from sklearn.model_selection import train_test_split"
   ]
  },
  {
   "cell_type": "code",
   "execution_count": 10,
   "metadata": {
    "collapsed": true
   },
   "outputs": [],
   "source": [
    "f = gzip.open('mnist.pkl.gz','rb')\n",
    "train_set, valid_set, test_set = pickle.load(f, encoding='latin1')\n",
    "f.close()"
   ]
  },
  {
   "cell_type": "code",
   "execution_count": 21,
   "metadata": {},
   "outputs": [
    {
     "name": "stdout",
     "output_type": "stream",
     "text": [
      "Extracting MNIST-data\\train-images-idx3-ubyte.gz\n",
      "Extracting MNIST-data\\train-labels-idx1-ubyte.gz\n",
      "Extracting MNIST-data\\t10k-images-idx3-ubyte.gz\n",
      "Extracting MNIST-data\\t10k-labels-idx1-ubyte.gz\n"
     ]
    },
    {
     "data": {
      "text/plain": [
       "(55000, 784)"
      ]
     },
     "execution_count": 21,
     "metadata": {},
     "output_type": "execute_result"
    }
   ],
   "source": [
    "\n",
    "train_feats.shape"
   ]
  },
  {
   "cell_type": "code",
   "execution_count": 24,
   "metadata": {
    "collapsed": true
   },
   "outputs": [],
   "source": [
    "TRAIN_SIZE = 50000\n",
    "VAL_SIZE = 5000\n",
    "\n",
    "def Data(object):\n",
    "    def __init__(self):\n",
    "        mnist = tf.contrib.learn.datasets.load_dataset(\"mnist\")\n",
    "        t_feats = mnist.train.images\n",
    "        t_labels = np.asarray(mnist.train.labels,dtype=np.int32)\n",
    "        test_feats = mnist.test.images\n",
    "        test_labels = np.asarray(mnist.test.labels,dtype=np.int32)\n",
    "        \n",
    "        train_feats, val_feats, train_labels, val_labels = train_test_split(\n",
    "            t_feats,t_labels, test_size=.09, random_state=123)\n",
    "        "
   ]
  },
  {
   "cell_type": "code",
   "execution_count": 2,
   "metadata": {},
   "outputs": [],
   "source": [
    "def cnn(features,labels,mode):\n",
    "    \n",
    "    #reshapes MNIST features from [1,784] to proper shape,\n",
    "    #allowing for varying batch sizes as well\n",
    "    inLayer = tf.reshape(features['x'],[-1,28,28,1])\n",
    "    \n",
    "    #define a l2 regularizer, for use on the convolutional layers\n",
    "    l2reg = tf.contrib.layers.l2_regularizer(scale=0.1)\n",
    "    \n",
    "    #performs 5x5 convolutions, increases data space by\n",
    "    #factor of 32\n",
    "    conv1 = tf.layers.conv2d(\n",
    "        inputs=inLayer, filters=32,kernel_size=[5,5],\n",
    "        padding=\"same\",activation=tf.nn.elu,\n",
    "        kernel_regularizer = l2reg)\n",
    "    \n",
    "    #reduces size of data space by half through max\n",
    "    #pooling\n",
    "    pool1 = tf.layers.max_pooling2d(\n",
    "        inputs=conv1, pool_size=[2,2], strides=2)\n",
    "    \n",
    "    #doubles size of data space again\n",
    "    conv2 = tf.layers.conv2d(\n",
    "        inputs=pool1, filters=64, kernel_size=[5,5],\n",
    "        padding=\"same\",activation=tf.nn.elu,\n",
    "        kernel_regularizer = l2reg)\n",
    "    \n",
    "    #pooling again\n",
    "    pool2 = tf.layers.max_pooling2d(\n",
    "        inputs=conv2, pool_size=[2,2], strides=2)\n",
    "    \n",
    "    #reshape for the dense layer\n",
    "    flat = tf.reshape(pool2, [-1, 7*7*64])\n",
    "    \n",
    "    #dense layer, duh\n",
    "    dense = tf.layers.dense(\n",
    "        inputs=flat, units=1024, activation=tf.nn.elu)\n",
    "    \n",
    "    #dropout regularization\n",
    "    dropout = tf.layers.dropout(\n",
    "        inputs=dense, rate=0.4, training=mode == tf.estimator.ModeKeys.TRAIN)\n",
    "    \n",
    "    #classification layer\n",
    "    classif = tf.layers.dense(inputs=dropout, units=10)\n",
    "    \n",
    "    predictions = {\n",
    "        \"classes\": tf.argmax(input=classif, axis=1),\n",
    "        \"probabilities\": tf.nn.softmax(classif, name=\"softmax_tensor\")\n",
    "    }\n",
    "    \n",
    "    if mode == tf.estimator.ModeKeys.PREDICT:\n",
    "        return tf.estimator.EstimatorSpec(mode=mode, predictions=predictions)\n",
    "    \n",
    "    loss = tf.losses.sparse_softmax_cross_entropy(labels=labels, logits=logits)\n",
    "    \n",
    "    if mode == tf.estimator.ModeKeys.TRAIN:\n",
    "        optimizer = tf.train.GradientDescentOptimizer(learning_rate=.001)\n",
    "        train_op = optimizer.minimize(\n",
    "            loss = loss, global_step=tf.train.get_global_step())\n",
    "        return tf.estimator.EstimatorSpec(mode=mode,loss=loss,train_op=train_op)\n",
    "    \n",
    "    #EVAL mode stuff\n",
    "    eval_metric_ops = {\n",
    "        \"accuracy\": tf.metrics.accuracy(\n",
    "            labels=labels,predictions=predictions[\"classes\"])}\n",
    "    return tf.estimator.EstimatorSpec(\n",
    "        mode=mode,loss=loss, eval_metric_ops=eval_metric_ops)"
   ]
  },
  {
   "cell_type": "code",
   "execution_count": 15,
   "metadata": {},
   "outputs": [
    {
     "name": "stdout",
     "output_type": "stream",
     "text": [
      "(50000, 784)\n",
      "(50000,)\n"
     ]
    }
   ],
   "source": [
    "data = Data()\n",
    "\n",
    "classif = tf.estimator.Estimator(model_fn=cnn)\n",
    "\n",
    "tensors_to_log = {\"probabilities\": \"softmax_tensor\"}\n",
    "logging_hook = tf.train.LoggingTensorHook(\n",
    "    tensors=tensors_to_log, every_n_iter=100)\n",
    "\n",
    "train_input_fn = tf.estimator.inputs.numpy_input_fn(\n",
    "    x={\"x\": data.train_feats},\n",
    "    y=data.train_labels,\n",
    "    batch_size=100,\n",
    "    num_epochs=None,\n",
    "    shuffle=True)\n",
    "mnist_classifier.train(\n",
    "    input_fn=train_input_fn,\n",
    "    steps=20000,\n",
    "    hooks=[logging_hook]\n",
    "\n",
    "eval_input_fn)"
   ]
  },
  {
   "cell_type": "code",
   "execution_count": 22,
   "metadata": {},
   "outputs": [
    {
     "data": {
      "text/plain": [
       "784"
      ]
     },
     "execution_count": 22,
     "metadata": {},
     "output_type": "execute_result"
    }
   ],
   "source": []
  },
  {
   "cell_type": "code",
   "execution_count": null,
   "metadata": {
    "collapsed": true
   },
   "outputs": [],
   "source": []
  }
 ],
 "metadata": {
  "kernelspec": {
   "display_name": "Python 3",
   "language": "python",
   "name": "python3"
  },
  "language_info": {
   "codemirror_mode": {
    "name": "ipython",
    "version": 3
   },
   "file_extension": ".py",
   "mimetype": "text/x-python",
   "name": "python",
   "nbconvert_exporter": "python",
   "pygments_lexer": "ipython3",
   "version": "3.6.2"
  }
 },
 "nbformat": 4,
 "nbformat_minor": 2
}
