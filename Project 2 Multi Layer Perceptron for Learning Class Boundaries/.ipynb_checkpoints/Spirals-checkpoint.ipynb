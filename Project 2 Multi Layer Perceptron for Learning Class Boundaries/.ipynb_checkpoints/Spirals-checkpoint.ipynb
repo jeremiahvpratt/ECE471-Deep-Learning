{
 "cells": [
  {
   "cell_type": "code",
   "execution_count": 1,
   "metadata": {},
   "outputs": [
    {
     "name": "stderr",
     "output_type": "stream",
     "text": [
      "C:\\Users\\jeremiah.v.pratt\\Anaconda3\\lib\\site-packages\\h5py\\__init__.py:34: FutureWarning: Conversion of the second argument of issubdtype from `float` to `np.floating` is deprecated. In future, it will be treated as `np.float64 == np.dtype(float).type`.\n",
      "  from ._conv import register_converters as _register_converters\n"
     ]
    }
   ],
   "source": [
    "import numpy as np\n",
    "import tensorflow as tf\n",
    "import matplotlib.pyplot as plt\n",
    "from tqdm import tqdm"
   ]
  },
  {
   "cell_type": "code",
   "execution_count": 2,
   "metadata": {
    "collapsed": true
   },
   "outputs": [],
   "source": [
    "LAYER_SIZE = 50\n",
    "N_HIDDEN_LAYERS = 0\n",
    "BATCH_SIZE = 75\n",
    "NUM_BATCHES = 100000\n",
    "LAMBDA = 0.01\n",
    "\n",
    "class Data(object):\n",
    "    def __init__(self):\n",
    "        num_samp = 200\n",
    "        sigma = 0.02\n",
    "        np.random.seed(31415)\n",
    "\n",
    "        self.index = np.arange(num_samp*2) \n",
    "        self.p1 = np.random.uniform(size=num_samp) + .1\n",
    "        self.p2 = np.random.uniform(size=num_samp) + .1\n",
    "        self.x1 = np.cos(4*np.pi*self.p1) * self.p1 + np.random.normal(0,sigma,num_samp)\n",
    "        self.x2 = np.cos(4*np.pi*self.p2 + np.pi) * self.p2 + np.random.normal(0,sigma,num_samp)\n",
    "        self.y1 = np.sin(4*np.pi*self.p1) * self.p1 + np.random.normal(0,sigma,num_samp)\n",
    "        self.y2 = np.sin(4*np.pi*self.p2 + np.pi) * self.p2 + np.random.normal(0,sigma,num_samp)\n",
    "        \n",
    "        self.feats1 = np.stack((self.x1,self.y1,np.zeros(np.shape(self.x1))))\n",
    "        self.feats2 = np.stack((self.x2,self.y2,np.ones(np.shape(self.x2))))\n",
    "        self.feats = np.concatenate((self.feats1,self.feats2),axis=1).T\n",
    "#         self.feats = self.feats.astype(float32)\n",
    "        \n",
    "    def get_batch(self):\n",
    "        choices = np.random.choice(self.index, size=BATCH_SIZE)\n",
    "        return data.feats[choices]"
   ]
  },
  {
   "cell_type": "code",
   "execution_count": 3,
   "metadata": {
    "collapsed": true
   },
   "outputs": [],
   "source": [
    "def f(x):\n",
    "    w0 = tf.get_variable('w0',[2,LAYER_SIZE], tf.float64, tf.random_normal_initializer())\n",
    "    b0 = tf.get_variable('b0',[], tf.float64, tf.zeros_initializer())\n",
    "    w1 = tf.get_variable('w1',[LAYER_SIZE,25], tf.float64, tf.random_normal_initializer())\n",
    "    b1 = tf.get_variable('b1',[], tf.float64, tf.zeros_initializer())\n",
    "    w2 = tf.get_variable('w2',[25,1], tf.float64, tf.random_normal_initializer())\n",
    "    b2 = tf.get_variable('b2',[], tf.float64, tf.zeros_initializer)\n",
    "    \n",
    "    return tf.squeeze(tf.matmul(tf.nn.elu(tf.squeeze(tf.matmul(tf.nn.elu(tf.squeeze(tf.matmul(x,w0) + b0)),\n",
    "                                         w1) + b1)),w2)+b2)"
   ]
  },
  {
   "cell_type": "code",
   "execution_count": 4,
   "metadata": {},
   "outputs": [
    {
     "name": "stderr",
     "output_type": "stream",
     "text": [
      "100%|█████████████████████████████████████████████████████████████████████████| 100000/100000 [01:43<00:00, 962.16it/s]\n"
     ]
    },
    {
     "name": "stdout",
     "output_type": "stream",
     "text": [
      "Parameter estimates:\n",
      "w [ 2.217 -1.747 -1.087  0.665  1.327  2.761 -1.213 -1.156 -0.768  2.\n",
      "  1.111 -2.573  1.651  2.998  0.457 -0.909  1.777  0.316 -0.988  0.459\n",
      " -0.859  1.489 -4.444 -0.982 -2.162  0.884 -0.64  -0.108 -0.759  2.21\n",
      " -0.654 -0.71  -1.107  0.724 -1.541  0.342 -1.366  4.501 -3.207 -6.053\n",
      " -1.119 -0.278 -1.848  0.951  1.689  1.563 -0.249  2.157 -0.02   0.559\n",
      "  1.779 -2.449  0.838 -0.346 -2.182  0.546 -1.282  2.579 -0.063 -2.518\n",
      " -2.167 -1.037 -2.331 -4.391 -1.052  1.127  0.492  2.444  1.67   1.477\n",
      "  1.335  1.087 -0.37   0.612 -1.568  1.12  -1.274 -3.003  1.26   0.394\n",
      "  0.556  0.384  5.854  0.756 -1.081 -0.01   2.346 -5.088 -0.453 -0.914\n",
      "  2.681  0.878  1.301 -1.237  3.087  0.092 -0.111  1.868  0.036  0.347]\n",
      "b [-0.98]\n",
      "w1 [ 0.892 -1.443 -1.382 ...  1.696 -0.759 -1.477]\n",
      "b1 [-2.697]\n",
      "w2 [ 0.742  2.438  3.315  4.209 -4.289  2.201  1.368  3.127 -3.46  -3.432\n",
      " -2.937 -0.534 -3.444 -0.455  4.675 -0.908  0.267 -5.04  -1.449 -0.127\n",
      "  0.209  1.743 -2.818  2.971  4.224]\n",
      "b2 [0.55]\n"
     ]
    }
   ],
   "source": [
    "x = tf.placeholder(tf.float64, [None,2])\n",
    "y = tf.placeholder(tf.float64, [None])\n",
    "y_hat = f(x)\n",
    "\n",
    "loss = tf.losses.sigmoid_cross_entropy(y,y_hat) #+ (LAMBDA*tf.reduce_sum([tf.nn.l2_loss(v) for v in tf.trainable_variables()]))\n",
    "\n",
    "optim = tf.train.GradientDescentOptimizer(learning_rate=0.1).minimize(loss)\n",
    "init = tf.global_variables_initializer()\n",
    "\n",
    "sess = tf.Session()\n",
    "sess.run(init)\n",
    "\n",
    "data = Data()\n",
    "\n",
    "for _ in tqdm(range(0, NUM_BATCHES)):\n",
    "    batch = data.get_batch()\n",
    "#     print(np.shape(batch[:,0:2]))\n",
    "#     print(np.shape(batch[:,2]))\n",
    "    x_np = batch[:,0:2]\n",
    "    y_np = batch[:,2]\n",
    "    loss_np, _ = sess.run([loss, optim], feed_dict={x: x_np, y: y_np})\n",
    "#     print(loss_np)\n",
    "    \n",
    "learned = []\n",
    "print(\"Parameter estimates:\")\n",
    "for var in tf.get_collection(tf.GraphKeys.TRAINABLE_VARIABLES):\n",
    "    print(\n",
    "        var.name.rstrip(\":0\"),\n",
    "        np.array_str(np.array(sess.run(var)).flatten(), precision=3))\n",
    "    \n",
    "    learned.append(np.array(sess.run(var)).flatten().tolist())"
   ]
  },
  {
   "cell_type": "code",
   "execution_count": 5,
   "metadata": {
    "collapsed": true
   },
   "outputs": [],
   "source": [
    "def plotPoints():\n",
    "    plt.scatter(data.x1,data.y1,color='paleturquoise')\n",
    "    plt.scatter(data.x2,data.y2,color='pink')"
   ]
  },
  {
   "cell_type": "code",
   "execution_count": 14,
   "metadata": {},
   "outputs": [],
   "source": [
    "def plotContour():\n",
    "    xt = yt = np.linspace(-1.2,1.2,300)\n",
    "    xx, yy = np.meshgrid(xt,yt)\n",
    "    all = np.array(list(zip(xx.flatten(),yy.flatten())))\n",
    "    \n",
    "    ret = sess.run(y_hat, feed_dict={x:all})\n",
    "    pick = sess.run(tf.sigmoid(ret))\n",
    "    plt.contourf(xx,yy, pick.reshape(xx.shape),cmap='coolwarm')"
   ]
  },
  {
   "cell_type": "code",
   "execution_count": 15,
   "metadata": {},
   "outputs": [
    {
     "data": {
      "image/png": "[encoded data removed]",
      "text/plain": [
       "<matplotlib.figure.Figure at 0x20737ab5b38>"
      ]
     },
     "metadata": {},
     "output_type": "display_data"
    }
   ],
   "source": [
    "# fig, axarr = plt.subplots(nrows=1, ncols=2, figsize = [18,6])\n",
    "plt.figure(figsize = [11,7])\n",
    "plt.title('Learning Class Boundaries of Two Spirals with a Multi Layer Perceptron')\n",
    "# plotPoints()\n",
    "plotContour()\n",
    "plotPoints()\n",
    "plt.show()"
   ]
  },
  {
   "cell_type": "code",
   "execution_count": null,
   "metadata": {
    "collapsed": true
   },
   "outputs": [],
   "source": []
  },
  {
   "cell_type": "code",
   "execution_count": 8,
   "metadata": {},
   "outputs": [
    {
     "name": "stdout",
     "output_type": "stream",
     "text": [
      "[0. 1. 0. 0. 0. 0. 0. 1. 1. 0. 1. 0. 1. 0. 1. 0. 1. 0. 0. 0. 1. 1. 1. 1.\n",
      " 0. 1. 0. 0. 0. 1. 0. 0. 1. 1. 1. 0. 0. 1. 0. 0. 0. 1. 0. 1. 1. 0. 1. 1.\n",
      " 1. 0. 0. 0. 1. 0. 1. 1. 0. 1. 1. 1. 1. 0. 0. 1. 1. 0. 1. 0. 0. 1. 0. 1.\n",
      " 0. 1. 0.]\n",
      "[0. 1. 0. 0. 0. 0. 0. 1. 1. 0. 1. 0. 1. 0. 1. 0. 1. 0. 0. 0. 1. 1. 1. 1.\n",
      " 0. 1. 0. 0. 0. 1. 0. 0. 1. 1. 1. 0. 0. 1. 0. 0. 0. 1. 0. 1. 1. 0. 1. 1.\n",
      " 1. 0. 0. 0. 1. 0. 1. 1. 0. 1. 1. 1. 1. 0. 0. 1. 1. 0. 1. 0. 0. 1. 0. 1.\n",
      " 0. 1. 0.]\n"
     ]
    }
   ],
   "source": [
    "dat = data.get_batch()\n",
    "xt = dat[:,0:2]\n",
    "a = sess.run(y_hat,feed_dict={x:xt})\n",
    "a[a>0] = 1\n",
    "a[a<0] = 0\n",
    "print(a)\n",
    "print(dat[:,2])"
   ]
  },
  {
   "cell_type": "code",
   "execution_count": 9,
   "metadata": {},
   "outputs": [
    {
     "data": {
      "text/plain": [
       "(75,)"
      ]
     },
     "execution_count": 9,
     "metadata": {},
     "output_type": "execute_result"
    }
   ],
   "source": [
    "\n",
    "b = a - dat[:,2]\n",
    "b[b == 0].shape"
   ]
  },
  {
   "cell_type": "code",
   "execution_count": null,
   "metadata": {
    "collapsed": true
   },
   "outputs": [],
   "source": []
  }
 ],
 "metadata": {
  "kernelspec": {
   "display_name": "Python 3",
   "language": "python",
   "name": "python3"
  },
  "language_info": {
   "codemirror_mode": {
    "name": "ipython",
    "version": 3
   },
   "file_extension": ".py",
   "mimetype": "text/x-python",
   "name": "python",
   "nbconvert_exporter": "python",
   "pygments_lexer": "ipython3",
   "version": "3.6.2"
  }
 },
 "nbformat": 4,
 "nbformat_minor": 2
}
